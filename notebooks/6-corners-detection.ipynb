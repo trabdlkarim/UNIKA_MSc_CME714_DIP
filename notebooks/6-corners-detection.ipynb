{
 "cells": [
  {
   "cell_type": "markdown",
   "metadata": {},
   "source": [
    "# Corners Detection : Holes Counting Algorithm in a Binary Image"
   ]
  },
  {
   "cell_type": "code",
   "execution_count": 88,
   "metadata": {},
   "outputs": [],
   "source": [
    "import matplotlib.pyplot as plt\n",
    "import numpy as np\n",
    "import matplotlib.image as mpimg\n",
    "my_img = mpimg.imread(\"data/tc.jpg\")"
   ]
  },
  {
   "cell_type": "markdown",
   "metadata": {},
   "source": [
    "## Convert Image to Binary Image"
   ]
  },
  {
   "cell_type": "code",
   "execution_count": 89,
   "metadata": {},
   "outputs": [],
   "source": [
    "def get_distance(pixel,w=[1/3,1/3,1/3]):\n",
    "    r,g,b = pixel[0],pixel[1],pixel[2]\n",
    "    w0,w1,w2=w[0],w[1],w[2]\n",
    "    return ((r**2)*w0+(g**2)*w1+(b**2)*w2)**0.5\n",
    "\n",
    "#### Convert RGB Images into Grayscale using the weighted method ####\n",
    "def convert_RGB2GRAY(img,weights):\n",
    "    m=img.shape[0]\n",
    "    n=img.shape[1]\n",
    "    gray_img = np.zeros((m,n),dtype=np.uint8)\n",
    "    for i in range(m):\n",
    "        for j in range(n):\n",
    "            gray_img[i,j]=get_distance(img[i,j,:],weights)\n",
    "    return gray_img\n",
    "\n",
    "#### Convert A Grayscale Image into Black White Image ####\n",
    "def convert_GRAY2BW(grayimg,threshold):\n",
    "    m=grayimg.shape[0]\n",
    "    n=grayimg.shape[1]\n",
    "    img_bw = np.empty((m,n),dtype=np.uint8)\n",
    "    for i in range(m):\n",
    "        for j in range(n):\n",
    "            if grayimg[i,j] > threshold:\n",
    "                img_bw[i,j]=1\n",
    "            else:\n",
    "                img_bw[i,j]=0\n",
    "    return img_bw"
   ]
  },
  {
   "cell_type": "code",
   "execution_count": 90,
   "metadata": {},
   "outputs": [],
   "source": [
    "gray_scale = convert_RGB2GRAY(my_img,[.6,.3,.1])\n",
    "bw_img = convert_GRAY2BW(gray_scale,120)"
   ]
  },
  {
   "cell_type": "code",
   "execution_count": 91,
   "metadata": {},
   "outputs": [
    {
     "data": {
      "image/png": "[encoded data removed]",
      "text/plain": [
       "<Figure size 720x720 with 1 Axes>"
      ]
     },
     "metadata": {},
     "output_type": "display_data"
    }
   ],
   "source": [
    "plt.figure(1,figsize=(10,10))\n",
    "plt.title(\"Binary Image\")\n",
    "plt.imshow(bw_img,cmap='gray')\n",
    "#plt.xticks([]),plt.yticks([])\n",
    "plt.show()"
   ]
  },
  {
   "cell_type": "markdown",
   "metadata": {},
   "source": [
    "## External Corner Pattern Matching Algorithm"
   ]
  },
  {
   "cell_type": "code",
   "execution_count": 92,
   "metadata": {},
   "outputs": [],
   "source": [
    "def count_exter_corners(imblock):\n",
    "    els_sum=0\n",
    "    imblock = imblock.reshape(4)\n",
    "    for i in range(4):\n",
    "        if int(imblock[i]) == 1 :\n",
    "            els_sum += 2**i\n",
    "    #if s==8 or s==4 or s==2 or s==1:\n",
    "    if els_sum==14 or els_sum==11 or els_sum==13 or els_sum==7:\n",
    "        return True\n",
    "    else:\n",
    "        return False"
   ]
  },
  {
   "cell_type": "markdown",
   "metadata": {},
   "source": [
    "## Internal Corner Pattern Matching Algorithm  "
   ]
  },
  {
   "cell_type": "code",
   "execution_count": 93,
   "metadata": {},
   "outputs": [],
   "source": [
    "def count_inter_corners(imblock):\n",
    "    els_sum=0\n",
    "    imblock = imblock.reshape(4)\n",
    "    for i in range(4):\n",
    "        if int(imblock[i]) == 0 :\n",
    "            els_sum+=2**i\n",
    "    if els_sum==14 or els_sum==13 or els_sum==11 or els_sum==7:\n",
    "        return True\n",
    "    else:\n",
    "        return False"
   ]
  },
  {
   "cell_type": "markdown",
   "metadata": {},
   "source": [
    "## Counting Holes or Objects Algorithm"
   ]
  },
  {
   "cell_type": "code",
   "execution_count": 94,
   "metadata": {},
   "outputs": [],
   "source": [
    "def count_holes_bin_img(bwimg):\n",
    "    m=bwimg.shape[0]\n",
    "    n=bwimg.shape[1]\n",
    "    externals = 0\n",
    "    internals = 0\n",
    "    for i in range(m-1):\n",
    "        for j in range(n-1):\n",
    "            if(count_exter_corners(bwimg[i:i+2,j:j+2])):\n",
    "                externals+=1\n",
    "            if (count_inter_corners(bwimg[i:i+2,j:j+2])):\n",
    "                internals+=1\n",
    "                \n",
    "    return int((externals - internals)/4)"
   ]
  },
  {
   "cell_type": "code",
   "execution_count": 95,
   "metadata": {},
   "outputs": [
    {
     "name": "stdout",
     "output_type": "stream",
     "text": [
      "Binary image objects count : 4\n"
     ]
    }
   ],
   "source": [
    "objects = count_holes_bin_img(bw_img)\n",
    "print(\"Binary image objects count : \"+str(objects))"
   ]
  }
 ],
 "metadata": {
  "kernelspec": {
   "display_name": "Python 3",
   "language": "python",
   "name": "python3"
  },
  "language_info": {
   "codemirror_mode": {
    "name": "ipython",
    "version": 3
   },
   "file_extension": ".py",
   "mimetype": "text/x-python",
   "name": "python",
   "nbconvert_exporter": "python",
   "pygments_lexer": "ipython3",
   "version": "3.6.5"
  }
 },
 "nbformat": 4,
 "nbformat_minor": 2
}
