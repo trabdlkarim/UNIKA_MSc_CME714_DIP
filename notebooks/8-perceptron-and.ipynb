{
 "cells": [
  {
   "cell_type": "markdown",
   "metadata": {},
   "source": [
    "# **Artificial Neural Network: AND Gate Perceptron**"
   ]
  },
  {
   "cell_type": "code",
   "execution_count": 23,
   "metadata": {},
   "outputs": [],
   "source": [
    "import numpy as np\n",
    "import matplotlib.pyplot as plt"
   ]
  },
  {
   "cell_type": "code",
   "execution_count": 2,
   "metadata": {},
   "outputs": [],
   "source": [
    "\n",
    "def get_dataset():\n",
    "    \n",
    "######                  x y b\n",
    "    inputs = np.array([[0,0,1],\n",
    "                       [0,1,1],\n",
    "                       [1,0,1],\n",
    "                       [1,1,1]])\n",
    "    outputs =np.array([0,0,0,1])\n",
    "    return inputs,outputs"
   ]
  },
  {
   "cell_type": "code",
   "execution_count": 3,
   "metadata": {},
   "outputs": [],
   "source": [
    "def transfer(x,w):\n",
    "    wsum = 0\n",
    "    for i in range(len(w)):\n",
    "        wsum = wsum + x[i]*w[i]\n",
    "    return wsum"
   ]
  },
  {
   "cell_type": "code",
   "execution_count": 4,
   "metadata": {},
   "outputs": [],
   "source": [
    "def activation(n):\n",
    "    if n > 0:\n",
    "        return 1\n",
    "    else :\n",
    "        return 0"
   ]
  },
  {
   "cell_type": "code",
   "execution_count": 5,
   "metadata": {},
   "outputs": [],
   "source": [
    "def update_weights(w,x,error,rate):\n",
    "    for i in range(len(w)):\n",
    "        w[i] = w[i] - rate*error*x[i]\n",
    "    return w"
   ]
  },
  {
   "cell_type": "code",
   "execution_count": 6,
   "metadata": {},
   "outputs": [],
   "source": [
    "def get_perceptron_params():\n",
    "    weights = [1,2,3]\n",
    "    rate = 1.0\n",
    "    epoch = 100\n",
    "    return weights,rate,epoch"
   ]
  },
  {
   "cell_type": "code",
   "execution_count": 7,
   "metadata": {},
   "outputs": [],
   "source": [
    "def netstatistics(x,y,out,**args):\n",
    "    print(x,'-->','y = '+str(y),'(out = '+str(out)+'),','error = '+str(args['er']))\n",
    "    "
   ]
  },
  {
   "cell_type": "code",
   "execution_count": 8,
   "metadata": {},
   "outputs": [],
   "source": [
    "inputs,outputs = get_dataset()"
   ]
  },
  {
   "cell_type": "code",
   "execution_count": 9,
   "metadata": {},
   "outputs": [
    {
     "name": "stdout",
     "output_type": "stream",
     "text": [
      "[0 0 1] 0\n",
      "[0 1 1] 0\n",
      "[1 0 1] 0\n",
      "[1 1 1] 1\n"
     ]
    }
   ],
   "source": [
    "z=zip(inputs,outputs)\n",
    "for i,o in z:\n",
    "    print(i,o)"
   ]
  },
  {
   "cell_type": "code",
   "execution_count": 10,
   "metadata": {},
   "outputs": [],
   "source": [
    "w,rate,epoch = get_perceptron_params()"
   ]
  },
  {
   "cell_type": "code",
   "execution_count": 11,
   "metadata": {},
   "outputs": [
    {
     "data": {
      "text/plain": [
       "3"
      ]
     },
     "execution_count": 11,
     "metadata": {},
     "output_type": "execute_result"
    }
   ],
   "source": [
    "len(w)"
   ]
  },
  {
   "cell_type": "code",
   "execution_count": 20,
   "metadata": {},
   "outputs": [],
   "source": [
    "\n",
    "def train(xdata,ydata,weights,rate=0.25,epoch=100):\n",
    "    for i in  range(epoch):\n",
    "        print('Step: #'+str(i))\n",
    "        for sample,output in zip(xdata,ydata):\n",
    "            wsum = transfer(sample,weights)\n",
    "            y = activation(wsum)\n",
    "            error = y - output \n",
    "            netstatistics(sample,y,output,er=error)\n",
    "            if (y!=output):\n",
    "                weights = update_weights(weights,sample,error,rate)\n",
    "        print('\\n')\n",
    "    return weights           "
   ]
  },
  {
   "cell_type": "code",
   "execution_count": 22,
   "metadata": {},
   "outputs": [
    {
     "name": "stdout",
     "output_type": "stream",
     "text": [
      "Step: #0\n",
      "[0 0 1] --> y = 0 (out = 0), error = 0\n",
      "[0 1 1] --> y = 0 (out = 0), error = 0\n",
      "[1 0 1] --> y = 0 (out = 0), error = 0\n",
      "[1 1 1] --> y = 1 (out = 1), error = 0\n",
      "\n",
      "\n",
      "Step: #1\n",
      "[0 0 1] --> y = 0 (out = 0), error = 0\n",
      "[0 1 1] --> y = 0 (out = 0), error = 0\n",
      "[1 0 1] --> y = 0 (out = 0), error = 0\n",
      "[1 1 1] --> y = 1 (out = 1), error = 0\n",
      "\n",
      "\n",
      "Step: #2\n",
      "[0 0 1] --> y = 0 (out = 0), error = 0\n",
      "[0 1 1] --> y = 0 (out = 0), error = 0\n",
      "[1 0 1] --> y = 0 (out = 0), error = 0\n",
      "[1 1 1] --> y = 1 (out = 1), error = 0\n",
      "\n",
      "\n",
      "Step: #3\n",
      "[0 0 1] --> y = 0 (out = 0), error = 0\n",
      "[0 1 1] --> y = 0 (out = 0), error = 0\n",
      "[1 0 1] --> y = 0 (out = 0), error = 0\n",
      "[1 1 1] --> y = 1 (out = 1), error = 0\n",
      "\n",
      "\n",
      "Step: #4\n",
      "[0 0 1] --> y = 0 (out = 0), error = 0\n",
      "[0 1 1] --> y = 0 (out = 0), error = 0\n",
      "[1 0 1] --> y = 0 (out = 0), error = 0\n",
      "[1 1 1] --> y = 1 (out = 1), error = 0\n",
      "\n",
      "\n",
      "Step: #5\n",
      "[0 0 1] --> y = 0 (out = 0), error = 0\n",
      "[0 1 1] --> y = 0 (out = 0), error = 0\n",
      "[1 0 1] --> y = 0 (out = 0), error = 0\n",
      "[1 1 1] --> y = 1 (out = 1), error = 0\n",
      "\n",
      "\n",
      "Step: #6\n",
      "[0 0 1] --> y = 0 (out = 0), error = 0\n",
      "[0 1 1] --> y = 0 (out = 0), error = 0\n",
      "[1 0 1] --> y = 0 (out = 0), error = 0\n",
      "[1 1 1] --> y = 1 (out = 1), error = 0\n",
      "\n",
      "\n",
      "Step: #7\n",
      "[0 0 1] --> y = 0 (out = 0), error = 0\n",
      "[0 1 1] --> y = 0 (out = 0), error = 0\n",
      "[1 0 1] --> y = 0 (out = 0), error = 0\n",
      "[1 1 1] --> y = 1 (out = 1), error = 0\n",
      "\n",
      "\n",
      "Step: #8\n",
      "[0 0 1] --> y = 0 (out = 0), error = 0\n",
      "[0 1 1] --> y = 0 (out = 0), error = 0\n",
      "[1 0 1] --> y = 0 (out = 0), error = 0\n",
      "[1 1 1] --> y = 1 (out = 1), error = 0\n",
      "\n",
      "\n",
      "Step: #9\n",
      "[0 0 1] --> y = 0 (out = 0), error = 0\n",
      "[0 1 1] --> y = 0 (out = 0), error = 0\n",
      "[1 0 1] --> y = 0 (out = 0), error = 0\n",
      "[1 1 1] --> y = 1 (out = 1), error = 0\n",
      "\n",
      "\n",
      "weights = [2.0, 1.0, -2.0]\n"
     ]
    }
   ],
   "source": [
    "uw=train(inputs,outputs,w,rate,10)\n",
    "print('weights =',uw)"
   ]
  },
  {
   "cell_type": "code",
   "execution_count": 27,
   "metadata": {},
   "outputs": [],
   "source": [
    "def net_plotter(xdata,ydata,**args):\n",
    "    plt.scatter(xdata,ydata,**args)"
   ]
  },
  {
   "cell_type": "code",
   "execution_count": 28,
   "metadata": {},
   "outputs": [
    {
     "data": {
      "image/png": "[encoded data removed]",
      "text/plain": [
       "<Figure size 432x288 with 1 Axes>"
      ]
     },
     "metadata": {
      "needs_background": "light"
     },
     "output_type": "display_data"
    }
   ],
   "source": [
    "net_plotter([0,0,1,1],[0,1,0,1])"
   ]
  }
 ],
 "metadata": {
  "kernelspec": {
   "display_name": "Python 3",
   "language": "python",
   "name": "python3"
  },
  "language_info": {
   "codemirror_mode": {
    "name": "ipython",
    "version": 3
   },
   "file_extension": ".py",
   "mimetype": "text/x-python",
   "name": "python",
   "nbconvert_exporter": "python",
   "pygments_lexer": "ipython3",
   "version": "3.6.7"
  }
 },
 "nbformat": 4,
 "nbformat_minor": 2
}
