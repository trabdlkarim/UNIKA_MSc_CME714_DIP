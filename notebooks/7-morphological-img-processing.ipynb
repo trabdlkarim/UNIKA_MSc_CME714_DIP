{
 "cells": [
  {
   "cell_type": "markdown",
   "metadata": {},
   "source": [
    "# Morphological Binary Image Processing"
   ]
  },
  {
   "cell_type": "code",
   "execution_count": 2,
   "metadata": {},
   "outputs": [],
   "source": [
    "import matplotlib.pyplot as plt\n",
    "import numpy as np\n",
    "import random\n",
    "import matplotlib.image as mpimg"
   ]
  },
  {
   "cell_type": "code",
   "execution_count": 41,
   "metadata": {},
   "outputs": [],
   "source": [
    "def create_matrix_28x28_with_0_1():\n",
    "    matrix = np.zeros((28,28))\n",
    "    for i in range(28):\n",
    "        for j in range(28):\n",
    "            matrix[i,j] = random.randint(0,1)\n",
    "    return matrix\n",
    "\n",
    "def MBR_create_matrix_28x28_with_0_1(matrix_a):\n",
    "    m=matrix_a.shape[0]\n",
    "    n=matrix_a.shape[1]\n",
    "    x_min=m\n",
    "    x_max=0\n",
    "    y_min=n\n",
    "    y_max=0\n",
    "    for i in range(m):\n",
    "        for j in range(n):\n",
    "            if(matrix_a[i,j] == 1 and i < x_min):\n",
    "                x_min=i\n",
    "            if(matrix_a[i,j] == 1 and i > x_max):\n",
    "                x_max=i\n",
    "            if(matrix_a[i,j] == 1 and j < y_min):\n",
    "                y_min = j\n",
    "            if(matrix_a[i,j] == 1 and j > y_max):\n",
    "                y_max=j\n",
    "    return (x_min,x_max,y_min,y_max) \n",
    "\n",
    "def get_similarity(char_a,char_b):\n",
    "    m=char_a.shape[0]\n",
    "    n=char_a.shape[0]\n",
    "    similarity = 0\n",
    "    for i in range(m):\n",
    "        for j in range(n):\n",
    "            similarity+=char_a[i,j]*char_b[i,j]\n",
    "    return similarity\n",
    "\n",
    "\n",
    "def get_similarity_for_n_chars(char_count=100):\n",
    "    chars=[]\n",
    "    for i in range(char_count):\n",
    "        new_char=create_matrix_28x28_with_0_1()\n",
    "        chars.append(new_char)\n",
    "    for i in range(char_count):\n",
    "        similarity =get_similarity(chars[0],chars[i])\n",
    "        print(\"Similarity: chars[0] & \"+\"chars[\"+str(i)+\"]\"+\" --> \",similarity)\n",
    "    \n",
    "    "
   ]
  },
  {
   "cell_type": "code",
   "execution_count": 47,
   "metadata": {},
   "outputs": [
    {
     "data": {
      "text/plain": [
       "(0, 27, 0, 27)"
      ]
     },
     "execution_count": 47,
     "metadata": {},
     "output_type": "execute_result"
    }
   ],
   "source": [
    "MBR_create_matrix_28x28_with_0_1(matrix_28x28)"
   ]
  },
  {
   "cell_type": "code",
   "execution_count": 57,
   "metadata": {},
   "outputs": [],
   "source": [
    "m = np.zeros((28,28),dtype=np.uint8)\n",
    "m[13:16,10:17] = np.ones((3,7),dtype=np.uint8)"
   ]
  },
  {
   "cell_type": "code",
   "execution_count": 58,
   "metadata": {},
   "outputs": [
    {
     "data": {
      "text/plain": [
       "(13, 15, 10, 16)"
      ]
     },
     "execution_count": 58,
     "metadata": {},
     "output_type": "execute_result"
    }
   ],
   "source": [
    "MBR_create_matrix_28x28_with_0_1(m)"
   ]
  },
  {
   "cell_type": "code",
   "execution_count": 40,
   "metadata": {},
   "outputs": [
    {
     "data": {
      "text/plain": [
       "199.0"
      ]
     },
     "execution_count": 40,
     "metadata": {},
     "output_type": "execute_result"
    }
   ],
   "source": [
    "char_a = create_matrix_28x28_with_0_1()\n",
    "char_b = create_matrix_28x28_with_0_1()\n",
    "get_similarity(char_a,char_b)"
   ]
  },
  {
   "cell_type": "code",
   "execution_count": 25,
   "metadata": {},
   "outputs": [
    {
     "name": "stdout",
     "output_type": "stream",
     "text": [
      "Similarity: chars[0] & chars[0] -->  401.0\n",
      "Similarity: chars[0] & chars[1] -->  192.0\n",
      "Similarity: chars[0] & chars[2] -->  210.0\n",
      "Similarity: chars[0] & chars[3] -->  194.0\n",
      "Similarity: chars[0] & chars[4] -->  201.0\n",
      "Similarity: chars[0] & chars[5] -->  204.0\n",
      "Similarity: chars[0] & chars[6] -->  231.0\n",
      "Similarity: chars[0] & chars[7] -->  198.0\n",
      "Similarity: chars[0] & chars[8] -->  196.0\n",
      "Similarity: chars[0] & chars[9] -->  211.0\n"
     ]
    }
   ],
   "source": [
    "get_similarity_for_n_chars(10)"
   ]
  }
 ],
 "metadata": {
  "kernelspec": {
   "display_name": "Python 3",
   "language": "python",
   "name": "python3"
  },
  "language_info": {
   "codemirror_mode": {
    "name": "ipython",
    "version": 3
   },
   "file_extension": ".py",
   "mimetype": "text/x-python",
   "name": "python",
   "nbconvert_exporter": "python",
   "pygments_lexer": "ipython3",
   "version": "3.6.5"
  }
 },
 "nbformat": 4,
 "nbformat_minor": 2
}
